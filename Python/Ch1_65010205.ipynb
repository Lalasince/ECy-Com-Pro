{
 "cells": [
  {
   "cell_type": "markdown",
   "id": "67ed283d-fe9e-4a3b-8d19-f4a3f6a3ffa3",
   "metadata": {},
   "source": [
    "## [HW] Ch1 Write your first python code (v02)"
   ]
  },
  {
   "cell_type": "markdown",
   "id": "107d6679-9fc6-4ddc-9907-ebb1266be9b0",
   "metadata": {
    "id": "6wL_-vvsPCfv"
   },
   "source": [
    "\n",
    "```1.``` จงเขียนโค้ดเปลี่ยนหน่วยวัดความยาวในระบบอังกฤษที่มีหน่วยเป็นฟุต \n",
    "f [Foot] และนิ้ว i [inch] ให้เป็นเซ็นติเมตร (cm) โดยเขียนเป็นฟังก์ชัน ```feet_to_cm(f,i)``` (Retrun ค่ากลับเป็นความยาวในหน่วยเซ็นติเมตร)\n",
    "\n",
    "(กำหนดให้ 1 [Foot] = 12 [inch] = 30.48 [cm])\n",
    "\n",
    "<div class=\"alert alert-info\" role=\"alert\">\n",
    "\n",
    "**HINT**\n",
    "    \n",
    "หลังคำสั่ง ```Return``` ให้เขียนนิพจน์ที่ประกอบด้วยตัวแปร ```f``` และ ```i``` และตัวดำเนินการทางคณิตศาสตร์ที่ทำให้ได้ผลลัพธ์เป็นเซ็นติเมตร\n",
    "</div>"
   ]
  },
  {
   "cell_type": "code",
   "execution_count": 4,
   "id": "581e9509-9fe4-47b1-bb24-9a597c257bb7",
   "metadata": {
    "tags": []
   },
   "outputs": [],
   "source": [
    "# 1. เขียนโค้ดด้านล่าง แล้วกด Shift+Enter\n",
    "\n",
    "def feet_to_cm(f,i): \n",
    "    return((f*30.48)+(i/12*30.48))"
   ]
  },
  {
   "cell_type": "markdown",
   "id": "b1a01708-b2cc-4764-9a8f-e09aff3c1598",
   "metadata": {},
   "source": [
    "หลังเขียนโค้ด ให้ทำการรันเซลล์ถัดจากนี้เพื่อตรวจสอบว่าถูกต้องหรือไม่\n",
    "\n",
    "ถูกต้องเมื่อรันแล้วแสดงผล ```True``` 2 ครั้ง"
   ]
  },
  {
   "cell_type": "code",
   "execution_count": 5,
   "id": "456327ab-73ca-4ae0-bbcd-207ff8066fc0",
   "metadata": {
    "tags": []
   },
   "outputs": [
    {
     "name": "stdout",
     "output_type": "stream",
     "text": [
      "True\n",
      "True\n"
     ]
    }
   ],
   "source": [
    "def check_similar(x,y): \n",
    "    print(abs(x-y)<0.000001)\n",
    "    \n",
    "check_similar(feet_to_cm(5,2),157.48)\n",
    "check_similar(feet_to_cm(6,5),195.58)"
   ]
  },
  {
   "cell_type": "markdown",
   "id": "9ff45145-1350-448d-915a-b59e6682f541",
   "metadata": {
    "tags": []
   },
   "source": [
    "<hr style=\"border:2px solid blue\">"
   ]
  },
  {
   "cell_type": "markdown",
   "id": "5f7b688c-cccd-4500-aa72-4f6364eb6481",
   "metadata": {},
   "source": [
    "```2.``` จงใช้สูตรของเฮรอน(Heron's Formula) คำนวณพื้นที่สามเหลี่ยมที่มีด้านยาว a, b และ c\n",
    "\n",
    "```\n",
    "def heron(a,b,c):\n",
    "    ...\n",
    "    ...\n",
    "    return ...\n",
    "```\n",
    "\n",
    "ref : https://www.cuemath.com/measurement/area-of-triangle-with-3-sides/\n",
    "\n",
    "\n",
    "<div class=\"alert alert-info\" role=\"alert\">\n",
    "\n",
    "**HINT**\n",
    "\n",
    "1) ก่อนคำสั่ง Return ให้กำหนดตัวแปรขึ้นมาหนึ่งตัว เช่น s (semi-perimeter of the triangle) แล้วกำหนดให้มีค่าเป็นครึ่งหนึ่งของความยาวเส้นรอบรูปสามเหลี่ยม (ใช้ตัวแปรของแต่ละด้าน a, b และ c และตัวดำเนินการทางคณิตศาสตร์)\n",
    "\n",
    "2) หลังคำสั่ง Return ให้เขียนนิพจน์ที่ประกอบด้วยตัวแปรข้างต้น (s) และตัวดำเนินการทางคณิตศาสตร์ที่ทำให้ได้ผลลัพธ์เป็นพื้นที่ของสามเหลี่ยม\n",
    "</div>"
   ]
  },
  {
   "cell_type": "code",
   "execution_count": 6,
   "id": "ae6b4397-a2d0-4c8d-bcab-677448598a46",
   "metadata": {
    "tags": []
   },
   "outputs": [],
   "source": [
    "# 2. เขียนโค้ดด้านล่าง แล้วกด Shift+Enter\n",
    "\n",
    "import math\n",
    "\n",
    "def heron(a,b,c):\n",
    "    s=(a+b+c)/2\n",
    "    return math.sqrt(s*(s-a)*(s-b)*(s-c))\n",
    "    "
   ]
  },
  {
   "cell_type": "markdown",
   "id": "c8a5d2a6-818b-4942-947b-4a73b2f38483",
   "metadata": {},
   "source": [
    "หลังเขียนโค้ด ให้ทำการรันเซลล์ถัดจากนี้เพื่อตรวจสอบว่าถูกต้องหรือไม่\n",
    "\n",
    "ถูกต้องเมื่อรันแล้วแสดงผล True 4 ครั้ง"
   ]
  },
  {
   "cell_type": "code",
   "execution_count": 7,
   "id": "5038c30c-c13f-4610-abdb-920858848917",
   "metadata": {
    "tags": []
   },
   "outputs": [
    {
     "name": "stdout",
     "output_type": "stream",
     "text": [
      "True\n",
      "True\n",
      "True\n",
      "True\n"
     ]
    }
   ],
   "source": [
    "print(heron(3,4,5) == 6)\n",
    "print(heron(3,6,7) == 8.94427190999916)\n",
    "print(heron(5,12,13) == 30.0)\n",
    "print(heron(5.5,12.12,13.13)==33.30886109932873)"
   ]
  },
  {
   "cell_type": "markdown",
   "id": "e248029a-ca3e-4034-8678-95fda992a292",
   "metadata": {
    "tags": []
   },
   "source": [
    "<hr style=\"border:2px solid blue\">"
   ]
  },
  {
   "cell_type": "markdown",
   "id": "4278dcc3-6eb8-4e1e-a20e-7fd7ca67cf3b",
   "metadata": {},
   "source": [
    "```3.``` จงเขียนโค้ดของฟังก์ชัน ```quadratic(a,b,c,x)``` ให้ฟังก์ชันคืนค่ากลับเป็นค่าของสมการกำลังสอง (Quadratic equations)\n",
    "\n",
    "$$f (x) = ax^2 + bx + c$$\n",
    "\n",
    "```\n",
    "def quadratic(a,b,c,x): \n",
    "   return ...\n",
    "```\n",
    "\n",
    "<div class=\"alert alert-info\" role=\"alert\">\n",
    "\n",
    "**HINT**\n",
    "\n",
    "หลังคำสั่ง Return ให้เขียนนิพจน์ที่ประกอบด้วยตัวแปร a, b, c และ x และตัวดำเนินการทางคณิตศาสตร์ที่ทำให้ได้ผลลัพธ์ของสมการกำลังสอง\n",
    "</div>"
   ]
  },
  {
   "cell_type": "code",
   "execution_count": 9,
   "id": "a92e995d-a1b7-459a-b93e-fcf2aee918ca",
   "metadata": {
    "tags": []
   },
   "outputs": [],
   "source": [
    "# 3. เขียนโค้ดด้านล่าง แล้วกด Shift+Enter\n",
    "\n",
    "def quadratic(a,b,c,x): \n",
    "    return (a*(x**2)+(b*x)+c)"
   ]
  },
  {
   "cell_type": "markdown",
   "id": "b0545db3-f02f-4b7e-8c65-63375530a432",
   "metadata": {},
   "source": [
    "หลังเขียนโค้ด ให้ทำการรันเซลล์ถัดจากนี้เพื่อตรวจสอบว่าถูกต้องหรือไม่\n",
    "\n",
    "ถูกต้องเมื่อรันแล้วแสดงผล True 2 ครั้ง"
   ]
  },
  {
   "cell_type": "code",
   "execution_count": 10,
   "id": "8e0c1638-15c7-44a4-83ca-9b15bb8190e1",
   "metadata": {
    "tags": []
   },
   "outputs": [
    {
     "name": "stdout",
     "output_type": "stream",
     "text": [
      "True\n",
      "True\n"
     ]
    }
   ],
   "source": [
    "print(quadratic(1,2,1,3) == 16)\n",
    "print(quadratic(1,-5,-2,7) == 12)"
   ]
  },
  {
   "cell_type": "markdown",
   "id": "6fa622f5-ecd1-4bd6-896d-d0a45ceb0cac",
   "metadata": {
    "tags": []
   },
   "source": [
    "<hr style=\"border:2px solid blue\">"
   ]
  }
 ],
 "metadata": {
  "kernelspec": {
   "display_name": "Python 3 (ipykernel)",
   "language": "python",
   "name": "python3"
  },
  "language_info": {
   "codemirror_mode": {
    "name": "ipython",
    "version": 3
   },
   "file_extension": ".py",
   "mimetype": "text/x-python",
   "name": "python",
   "nbconvert_exporter": "python",
   "pygments_lexer": "ipython3",
   "version": "3.8.10"
  }
 },
 "nbformat": 4,
 "nbformat_minor": 5
}
