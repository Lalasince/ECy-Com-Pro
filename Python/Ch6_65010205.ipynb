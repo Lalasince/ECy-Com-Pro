{
 "cells": [
  {
   "cell_type": "markdown",
   "metadata": {
    "tags": []
   },
   "source": [
    "## [HW] Ch6_Conditions(if_else)_v01"
   ]
  },
  {
   "cell_type": "markdown",
   "metadata": {},
   "source": [
    "1 จงเขียนฟังก์ชั่นส่งค่าคืนกลับเป็นวันในสัปดาห์ <code>get_day_week()</code> ตาม Flowchart ต่อไปนี้ โดยกำหนดให้อาร์กิวเมนต์วันเดือนปีที่ส่งให้ฟังก์ชั่นที่เป็นตัวเลข \n",
    "\n",
    "เช่น ถ้าเป็น 5 พ.ค. 2022  ก็ให้กดคีย์เป็น \n",
    "\n",
    "5 &#9166; \n",
    "\n",
    "5 &#9166; \n",
    "\n",
    "2022 &#9166; \n",
    "\n",
    "(&#9166; คือ ปุ่ม Enter (เอ็นเทอร์))\n"
   ]
  },
  {
   "cell_type": "markdown",
   "metadata": {},
   "source": [
    "<img src=\"https://nemd.kmitl.ac.th/home/pybook/_images/get_day_week_flowchart.png\" width = '900'/>"
   ]
  },
  {
   "cell_type": "code",
   "execution_count": 98,
   "metadata": {
    "scrolled": true,
    "tags": []
   },
   "outputs": [
    {
     "name": "stdin",
     "output_type": "stream",
     "text": [
      "Date  =  31\n",
      "Month Number =  2\n",
      "Year (A.D.) =  2022\n"
     ]
    },
    {
     "name": "stdout",
     "output_type": "stream",
     "text": [
      "error\n"
     ]
    }
   ],
   "source": [
    "# HW\n",
    "# By using the skeleton of code below.\n",
    "\n",
    "def get_day_week(d, m, y):\n",
    "    day_of_week = [\"Sunday\", \"Monday\", \"Tuesday\", \"Wednesday\", \"Thursday\", \"Friday\", \"Saturday\"]  \n",
    "    ### BEGIN SOLUTION\n",
    "    \n",
    "    if (d >29 and m == 2):\n",
    "        return \"error\" \n",
    "    elif ( d>31 and m in (1, 3, 5, 7, 8, 10, 12)):\n",
    "        return \"error\" \n",
    "    elif ( d>30 and m in (4, 6, 9, 11)):\n",
    "        return \"error\" \n",
    "    \n",
    "    if m<3:\n",
    "        m+=12\n",
    "        y-=1\n",
    "    c=y//100\n",
    "    k=y%100\n",
    "    w=((d+(26*(m+1)//10)+k+(k//4)+(c//4)+(5*c))%7)\n",
    "    \n",
    "    if w==0:\n",
    "        return \"Saturday\"\n",
    "    elif w==1:\n",
    "        return \"Sunday\"\n",
    "    elif w==2:\n",
    "        return \"Monday\"\n",
    "    elif w==3:\n",
    "        return \"Tuesday\"\n",
    "    elif w==4:\n",
    "        return \"Wednesday\"\n",
    "    elif w==5:\n",
    "        return \"Thursday\"\n",
    "    elif w==6:\n",
    "        return \"Friday\"\n",
    "    \n",
    "\n",
    "    ### END SOLUTION\n",
    "\n",
    "\n",
    "d = int(input(\"Date  = \"))\n",
    "m = int(input(\"Month Number = \"))\n",
    "y = int(input(\"Year (A.D.) = \"))\n",
    "\n",
    "print(get_day_week(d, m, y))"
   ]
  },
  {
   "cell_type": "markdown",
   "metadata": {},
   "source": [
    "หลังจากเขียนโค้ดเสร็จแล้ว ให้ทำการเทสรัน \n",
    "ถ้าได้ผลลัพธ์ Pass/True ครบ 10 ครั้ง แสดงว่า Test ผ่านหมด (10 คะแนน)\n",
    "\n",
    "หมายเหตุ: โฟลวชาร์ตข้างต้นนี้มีจุดบกพร่อง (Bug) อยู่ ในกรณีที่ยูสเซอร์คีย์วันเดือนปีที่ไม่มีจริงในปฏิทิน \n",
    "เช่นวันที่ 29/2/2022 จะคำนวณเป็นวัน Tuesday ทั้งๆ ที่ปี 2022 เป็นปีปรกติ เดือนกุมภาพันธ์มีแค่ 28 วัน ไม่มีวันที่ 29!! \n",
    "ใครที่สามารถแก้ไขจุดบกพร่องตรงนี้ได้จะได้คะแนนนพิเศษ +5 คะแนน"
   ]
  },
  {
   "cell_type": "code",
   "execution_count": 97,
   "metadata": {
    "tags": []
   },
   "outputs": [
    {
     "name": "stdout",
     "output_type": "stream",
     "text": [
      "15/4/2095 -> 15 \t True\n",
      "4/2/1971 -> 4 \t True\n",
      "5/11/1955 -> 5 \t True\n",
      "17/2/1986 -> 17 \t True\n",
      "18/5/1965 -> 18 \t True\n",
      "18/11/2074 -> 18 \t True\n",
      "4/12/2092 -> 4 \t True\n",
      "27/4/2025 -> 27 \t True\n",
      "2/7/2002 -> 2 \t True\n",
      "19/10/2006 -> 19 \t True\n"
     ]
    }
   ],
   "source": [
    "# HW: For test-run\n",
    "from datetime import datetime\n",
    "from random import choice\n",
    "\n",
    "test_N = 10\n",
    "\n",
    "for i in range(test_N):\n",
    "    # สุ่มโดยเช็คปีว่าเป็นปี leap-year หรือไม่ และกำหนดจำนวนวันของแต่ละเดือน เพื่อไม่ให้วันที่เกิน \n",
    "    years = list(range(1950, 2101)) # years 1950~2100\n",
    "    y = choice(years)\n",
    "    # Check for leap-year\n",
    "    if (((y % 4 == 0) and (y % 100 != 0))) or (y % 400 == 0):\n",
    "        leap_flag = True\n",
    "    else:\n",
    "        leap_flag = False\n",
    "\n",
    "    months = list(range(1, 13)) # 12 months list\n",
    "    m = choice(months)\n",
    "    if m in (1, 3, 5, 7, 8, 10, 12):\n",
    "        m_length = 31\n",
    "    elif m == 2:\n",
    "        if leap_flag:\n",
    "            m_length = 29\n",
    "        else:\n",
    "            m_length = 28\n",
    "    else:\n",
    "        m_length = 30\n",
    "\n",
    "    dates = list(range(1, m_length+1)) \n",
    "    d = choice(dates)\n",
    "\n",
    "    print('{}/{}/{}'.format(d, m, y), end=' ')\n",
    "    ans = datetime(y,m,d).date().strftime('%A')\n",
    "    ans_flag = (get_day_week(d,m,y) == ans)\n",
    "    print('-> {} \\t {}'.format(d, ans_flag))\n"
   ]
  },
  {
   "cell_type": "markdown",
   "metadata": {
    "tags": []
   },
   "source": [
    "<hr style=\"border:1px solid blue\">"
   ]
  },
  {
   "cell_type": "markdown",
   "metadata": {},
   "source": [
    "2 ค่าดัชนีมวลกาย (Body Mass Index) หรือเรียกย่อๆ ว่า BMI คือ ตัวชี้วัดมาตรฐานเพื่อประเมินสภาวะอ้วนหรือผอมในผู้ใหญ่ตั้งแต่อายุ 20 ปีขึ้นไป ซึ่งคำนวณได้จาก การใช้น้ำหนักตัว ($w$) เป็นกิโลกรัมและหารด้วยส่วนสูง ($h$) ที่วัดเป็นเมตรยกกำลังสอง (Ref: https://www.bangpakokhospital.com) ตามสมการต่อไปนี้\n",
    "\n",
    " $$BMI = \\frac{w}{h^2}$$\n",
    "\n",
    "จงเขียนโปรแกรมประเมินค่า BMI ให้แสดงผลการประเมินตามตาราง\n",
    "\n",
    "<img src=\"https://nemd.kmitl.ac.th/home/pybook/_images/BMI_standard.png\" width = '300'/>\n",
    "\n",
    "ตัวอย่าง Output:\n",
    "\n",
    "```output\n",
    "ส่วนสูง (cm)?  170\n",
    "น้ำหนัก (kg)?  62\n",
    "สมส่วน\n",
    "```"
   ]
  },
  {
   "cell_type": "code",
   "execution_count": 35,
   "metadata": {
    "tags": []
   },
   "outputs": [
    {
     "name": "stdin",
     "output_type": "stream",
     "text": [
      "ส่วนสูง (cm)?  170\n",
      "น้ำหนัก (kg)?  56\n"
     ]
    },
    {
     "name": "stdout",
     "output_type": "stream",
     "text": [
      "สมส่วน\n"
     ]
    }
   ],
   "source": [
    "# HW: BMI Evaluation\n",
    "# By using the skeleton of code below.\n",
    "\n",
    "def bmi_evaluate(w, h):\n",
    "    '''\n",
    "    คำนวณค่า BMI โดยน้ำหนัก (w) มีหน่วยเป็น kg และส่วนสูง (h) มีหน่วยเป็น cm\n",
    "    แล้วประเมินความสมดุลของน้ำหนักตัวต่อส่วนสูงว่าอยู่ในเกณฑ์ที่เหมาะสมหรือไม่\n",
    "    '''\n",
    "    bmi_value = w / (h/100)**2\n",
    "    \n",
    "    ### BEGIN SOLUTION\n",
    "    pass\n",
    "    \n",
    "    if bmi_value<18.5:\n",
    "        result = \"น้ำหนักต่ำกว่าเกณฑ์\"\n",
    "    elif bmi_value<=22.9:\n",
    "        result = \"สมส่วน\"\n",
    "    elif bmi_value<=24.9:\n",
    "        result = \"น้ำหนักเกิน\"\n",
    "    elif bmi_value<=29.9:\n",
    "        result = \"โรคอ้วน\"\n",
    "    else:\n",
    "        result = \"โรคอ้วนอันตราย\"\n",
    "    ### END SOLUTION\n",
    "\n",
    "    return result\n",
    "\n",
    "height = float(input(\"ส่วนสูง (cm)? \"))\n",
    "weight = float(input(\"น้ำหนัก (kg)? \"))\n",
    "\n",
    "print(bmi_evaluate(weight, height))\n"
   ]
  },
  {
   "cell_type": "markdown",
   "metadata": {
    "tags": []
   },
   "source": [
    "<hr style=\"border:2px solid blue\">"
   ]
  }
 ],
 "metadata": {
  "kernelspec": {
   "display_name": "Python 3 (ipykernel)",
   "language": "python",
   "name": "python3"
  },
  "language_info": {
   "codemirror_mode": {
    "name": "ipython",
    "version": 3
   },
   "file_extension": ".py",
   "mimetype": "text/x-python",
   "name": "python",
   "nbconvert_exporter": "python",
   "pygments_lexer": "ipython3",
   "version": "3.8.10"
  },
  "latex_envs": {
   "LaTeX_envs_menu_present": true,
   "autoclose": false,
   "autocomplete": true,
   "bibliofile": "biblio.bib",
   "cite_by": "apalike",
   "current_citInitial": 1,
   "eqLabelWithNumbers": true,
   "eqNumInitial": 1,
   "hotkeys": {
    "equation": "Ctrl-E",
    "itemize": "Ctrl-I"
   },
   "labels_anchors": false,
   "latex_user_defs": false,
   "report_style_numbering": false,
   "user_envs_cfg": false
  },
  "metadata": {
   "interpreter": {
    "hash": "3abed311d39052675f1169a15d6f64f9745014cae486d494ad699e58cf37536b"
   }
  },
  "toc": {
   "base_numbering": 1,
   "nav_menu": {},
   "number_sections": true,
   "sideBar": true,
   "skip_h1_title": true,
   "title_cell": "Table of Contents",
   "title_sidebar": "Contents",
   "toc_cell": false,
   "toc_position": {},
   "toc_section_display": true,
   "toc_window_display": false
  }
 },
 "nbformat": 4,
 "nbformat_minor": 4
}
