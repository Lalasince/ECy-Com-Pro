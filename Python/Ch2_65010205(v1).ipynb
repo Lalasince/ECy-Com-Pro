{
 "cells": [
  {
   "cell_type": "markdown",
   "metadata": {},
   "source": [
    "## [HW] Ch2 Strings (v02)"
   ]
  },
  {
   "cell_type": "markdown",
   "metadata": {
    "tags": []
   },
   "source": [
    "```1.``` จงเขียนโค้ดให้พิมพ์แถวตัวอักษรต่อไปนี้ออกหน้าจอ\n",
    "```\n",
    "_.~\"~._.~\"~._.~\"~._.~\"~._\n",
    "\n",
    "```\n",
    "[Src: Waves]( https://www.asciiart.eu/)"
   ]
  },
  {
   "cell_type": "code",
   "execution_count": 4,
   "metadata": {
    "tags": []
   },
   "outputs": [
    {
     "name": "stdout",
     "output_type": "stream",
     "text": [
      "_.~\"~._.~\"~._.~\"~._.~\"~._\n"
     ]
    }
   ],
   "source": [
    "# เขียนโค้ดด้านล่าง แล้วกด Shift+Enter\n",
    "print('_.~\"~._.~\"~._.~\"~._.~\"~._')"
   ]
  },
  {
   "cell_type": "markdown",
   "metadata": {
    "tags": []
   },
   "source": [
    "<hr style=\"border:1px solid blue\">"
   ]
  },
  {
   "cell_type": "markdown",
   "metadata": {
    "tags": []
   },
   "source": [
    "```2.``` จงใช้การตัดข้อความ (Slicing strings) สร้างฟังก์ชัน ```remove_at()``` โดยมีพารามิเตอร์ 2 ตัว คือ 1) ```input_string```  เป็นตัวแปรเก็บข้อความใดๆ (ก่อนตัด) และ 2) ```index``` เป็นตัวแปรเก็บตัวเลขดัชนีของอักขระที่ต้องการตัดทิ้ง และคืนค่ากลับเป็นข้อความที่ตัดตัวอักขระที่มีค่าดัชนีเท่ากับ index ทิ้งแล้ว \n",
    "\n",
    "เช่น \n",
    "* remove_at('ฉันเองนะ', 3)  --> 'ฉันองนะ' \n",
    "    \n",
    "    เป็นการตัดอักขระที่มีดัชนีเท่ากับ 3 ออกจากข้อความ 'ฉันเองนะ' (ตัด 'เ' ทิ้ง เนื่องจาก 'ฉันเองนะ'.[3] คืออักขระ 'เ')\n",
    "    \n",
    "    \n",
    "* remove_at('Hello World', 0)  --> 'ello World'\n",
    "            \n",
    "    เป็นการตัดอักขระที่มีดัชนีเท่ากับ 0 ออกจากข้อความ 'Hello World' (ตัด 'H' ทิ้ง เนื่องจาก 'Hello World'.[0] คืออักขระ 'H')\n",
    "\n",
    "\n",
    "    \n",
    "โดยเขียนโค้ตเพิ่มลงในช่องว่างที่เตรียมไว้ระหว่าง ```### BEGIN SOLUTION``` และ ```### END SOLUTION```"
   ]
  },
  {
   "cell_type": "code",
   "execution_count": 12,
   "metadata": {
    "tags": []
   },
   "outputs": [
    {
     "name": "stdin",
     "output_type": "stream",
     "text": [
      "ใส่เลข Index ของตัวอักษรที่ต้องการตัด:  8\n"
     ]
    },
    {
     "name": "stdout",
     "output_type": "stream",
     "text": [
      "ลองเคี้ยหมากฝรั่งดูเผื่อหายง่วง\n"
     ]
    }
   ],
   "source": [
    "def remove_at(input_string, index):\n",
    "    temp = input_string[:index] + input_string[index+1:]\n",
    "    \n",
    "    return temp\n",
    "    \n",
    "string = 'ลองเคี้ยวหมากฝรั่งดูเผื่อหายง่วง'\n",
    "index = int(input('ใส่เลข Index ของตัวอักษรที่ต้องการตัด: '))\n",
    "print(remove_at(string, index))"
   ]
  },
  {
   "cell_type": "markdown",
   "metadata": {},
   "source": [
    "ทดสอบโค้ดที่เขียน โดยรันเซลล์ต่อไปนี้ ถ้าได้ผลลัพธ์ ```True``` 2 ครั้ง ถือว่าผ่าน"
   ]
  },
  {
   "cell_type": "code",
   "execution_count": 13,
   "metadata": {
    "tags": []
   },
   "outputs": [
    {
     "name": "stdout",
     "output_type": "stream",
     "text": [
      "ผลการทดสอบ:\n",
      "True\n",
      "True\n"
     ]
    }
   ],
   "source": [
    "# For test-run\n",
    "# รันโค้ดต่อไปนี้ ถ้าได้ผลลัพธ์ 'True' 2 ครั้ง ถือว่าผ่าน\n",
    "\n",
    "string1 = 'ลองเคี้ยวหมากฝรั่งดูจะได้หายง่วง'\n",
    "string2 = 'ผมตกข่าวมากเลยครับ เกือบจะไม่ได้ไปดูงาน NIKON DAY 2006 แล้ว'\n",
    "\n",
    "print(\"ผลการทดสอบ:\")\n",
    "print(remove_at(string1, string1.find('ก'))=='ลองเคี้ยวหมาฝรั่งดูจะได้หายง่วง')\n",
    "print(remove_at(string2, string2.find('่'))=='ผมตกขาวมากเลยครับ เกือบจะไม่ได้ไปดูงาน NIKON DAY 2006 แล้ว')"
   ]
  },
  {
   "cell_type": "markdown",
   "metadata": {
    "tags": []
   },
   "source": [
    "<hr style=\"border:1px solid blue\">"
   ]
  },
  {
   "cell_type": "markdown",
   "metadata": {},
   "source": [
    "`3.` จงใช้เมธอดของสตริง สร้างฟังก์ชัน ```upside_down()``` โดยมีพารามิเตอร์ 1 ตัว คือ ```input_string```  เป็นตัวแปรเก็บข้อความภาษาอังกฤษใดๆ (ก่อนการกลับหัวกลับหาง) และคืนค่ากลับเป็นข้อความที่กลับหัวกลับหางแล้ว กล่าวคือ เปลี่ยนตัวอักษร a เป็น z, เปลี่ยน b เป็น y ... เปลี่ยน y เป็น b, เปี่ยน z เป็น a (เฉพาะอักษรตัวเล็กเท่านั้น)\n",
    "\n",
    "\n",
    "ตัวอย่างการกลับหัวกลับหาง เช่น \n",
    "* upside_down('abcdefghijklmnopqrstuvwxyz')  --> 'zyxwvutsrqponmlkjihgfedcba'\n",
    "\n",
    "    \n",
    "โดยเขียนโค้ตเพิ่มลงในช่องว่างที่เตรียมไว้ระหว่าง ```### BEGIN SOLUTION``` และ ```### END SOLUTION```"
   ]
  },
  {
   "cell_type": "code",
   "execution_count": 46,
   "metadata": {
    "tags": []
   },
   "outputs": [
    {
     "name": "stdout",
     "output_type": "stream",
     "text": [
      " zyxwvutsrqponmlkjihgfedcba\n"
     ]
    }
   ],
   "source": [
    "def upside_down(input_string):\n",
    "    ### BEGIN SOLUTION\n",
    "    answer = \" \"\n",
    "    for char in input_string:\n",
    "        if char.islower():\n",
    "            reversed_char = chr(219-ord(char))\n",
    "            answer += reversed_char\n",
    "        else:\n",
    "            answer+=char\n",
    "    return answer\n",
    "    ### END SOLUTION\n",
    "    \n",
    "string = 'abcdefghijklmnopqrstuvwxyz'\n",
    "print(upside_down(string)) # ผลลัพธ์ที่คาดหวัง 'zyxwvutsrqponmlkjihgfedcba'\n"
   ]
  },
  {
   "cell_type": "markdown",
   "metadata": {},
   "source": [
    "ทดสอบโค้ดที่เขียน โดยรันเซลล์ต่อไปนี้ ถ้าได้ผลลัพธ์ ```True``` 2 ครั้ง ถือว่าผ่าน"
   ]
  },
  {
   "cell_type": "code",
   "execution_count": 47,
   "metadata": {
    "tags": []
   },
   "outputs": [
    {
     "name": "stdout",
     "output_type": "stream",
     "text": [
      "ผลการทดสอบ:\n",
      "False\n",
      "False\n"
     ]
    }
   ],
   "source": [
    "# For test-run\n",
    "# รันโค้ดต่อไปนี้ ถ้าได้ผลลัพธ์ 'True' 2 ครั้ง ถือว่าผ่าน\n",
    "\n",
    "string1 = \"Ig'h yvhg gl ovg svi tl\"\n",
    "string2 = 'A dziirli wlvh mlg trev fk dszg sv olevh, sv urmwh gsv olev rm dszg sv wlvh'\n",
    "print(\"ผลการทดสอบ:\")\n",
    "print(upside_down(string1)==\"It's best to let her go\")\n",
    "print(upside_down(string2)==\"A warrior does not give up what he loves, he finds the love in what he does\")"
   ]
  },
  {
   "cell_type": "markdown",
   "metadata": {
    "tags": []
   },
   "source": [
    "<hr style=\"border:2px solid blue\">"
   ]
  }
 ],
 "metadata": {
  "kernelspec": {
   "display_name": "Python 3 (ipykernel)",
   "language": "python",
   "name": "python3"
  },
  "language_info": {
   "codemirror_mode": {
    "name": "ipython",
    "version": 3
   },
   "file_extension": ".py",
   "mimetype": "text/x-python",
   "name": "python",
   "nbconvert_exporter": "python",
   "pygments_lexer": "ipython3",
   "version": "3.8.10"
  },
  "latex_envs": {
   "LaTeX_envs_menu_present": true,
   "autoclose": false,
   "autocomplete": true,
   "bibliofile": "biblio.bib",
   "cite_by": "apalike",
   "current_citInitial": 1,
   "eqLabelWithNumbers": true,
   "eqNumInitial": 1,
   "hotkeys": {
    "equation": "Ctrl-E",
    "itemize": "Ctrl-I"
   },
   "labels_anchors": false,
   "latex_user_defs": false,
   "report_style_numbering": false,
   "user_envs_cfg": false
  },
  "toc": {
   "base_numbering": 1,
   "nav_menu": {},
   "number_sections": true,
   "sideBar": true,
   "skip_h1_title": true,
   "title_cell": "Table of Contents",
   "title_sidebar": "Contents",
   "toc_cell": false,
   "toc_position": {},
   "toc_section_display": true,
   "toc_window_display": false
  },
  "vscode": {
   "interpreter": {
    "hash": "e921dbf9f2d20a8528fa054ff97aae3eb23f1abc9a6f29b7bcee4307a5b88bad"
   }
  }
 },
 "nbformat": 4,
 "nbformat_minor": 4
}
